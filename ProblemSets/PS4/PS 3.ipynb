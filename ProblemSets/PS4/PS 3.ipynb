{
 "cells": [
  {
   "cell_type": "code",
   "execution_count": 1,
   "metadata": {},
   "outputs": [],
   "source": [
    "import numpy as np\n",
    "import scipy.optimize as opt\n",
    "import matplotlib.pyplot as plt\n",
    "import time\n",
    "import warnings\n",
    "warnings.filterwarnings(\"ignore\")"
   ]
  },
  {
   "cell_type": "markdown",
   "metadata": {},
   "source": [
    "## Problem 2.1 "
   ]
  },
  {
   "cell_type": "code",
   "execution_count": 2,
   "metadata": {},
   "outputs": [],
   "source": [
    "beta = 0.442\n",
    "delta = 0.6415\n",
    "sigma = 3\n",
    "A = 1\n",
    "alpha = 0.35\n",
    "nvec = np.array([1.0, 1.0, 0.2])\n",
    "SS_tol = 1e-9\n",
    "f_params = [nvec, A, alpha, delta]"
   ]
  },
  {
   "cell_type": "code",
   "execution_count": 3,
   "metadata": {},
   "outputs": [],
   "source": [
    "def feasible(f_params, bvec_guess):\n",
    "    nvec, A, alpha, delta = f_params\n",
    "    b2, b3 = bvec_guess\n",
    "    K = sum(bvec_guess)\n",
    "    K_cnstr = (K <= 0)\n",
    "    \n",
    "    L = sum(nvec)\n",
    "    r = alpha * A * (L / K) ** (1 - alpha) - delta  \n",
    "    w = (1 - alpha) * A * (K / L) ** alpha\n",
    "    c1 = w * nvec[0] - bvec_guess[0]\n",
    "    c2 = w * nvec[1] + (1 + r) * b2 - b3\n",
    "    c3 = w * nvec[2] + (1 + r) * b3\n",
    "    \n",
    "    c_cnstr = (c1 <= 0, c2 <= 0, c3 <=0)\n",
    "    b_cnstr = ((c1 <= 0) or (c2 <= 0),  (c2 <= 0) or (c3 <=0))\n",
    "    \n",
    "    return(b_cnstr, c_cnstr, K_cnstr)"
   ]
  },
  {
   "cell_type": "markdown",
   "metadata": {},
   "source": [
    "### a)"
   ]
  },
  {
   "cell_type": "code",
   "execution_count": 4,
   "metadata": {},
   "outputs": [
    {
     "name": "stdout",
     "output_type": "stream",
     "text": [
      "((True, False), (True, False, False), False)\n"
     ]
    }
   ],
   "source": [
    "bvec_guess = np.array([1.0, 1.2])\n",
    "print(feasible(f_params, bvec_guess))"
   ]
  },
  {
   "cell_type": "markdown",
   "metadata": {},
   "source": [
    "The constrain of first period consumption is violated."
   ]
  },
  {
   "cell_type": "markdown",
   "metadata": {},
   "source": [
    "### b)"
   ]
  },
  {
   "cell_type": "code",
   "execution_count": 5,
   "metadata": {},
   "outputs": [
    {
     "name": "stdout",
     "output_type": "stream",
     "text": [
      "((False, False), (False, False, False), False)\n"
     ]
    }
   ],
   "source": [
    "bvec_guess = np.array([0.06, -0.001])\n",
    "print(feasible(f_params, bvec_guess))"
   ]
  },
  {
   "cell_type": "markdown",
   "metadata": {},
   "source": [
    "Nothing is violated."
   ]
  },
  {
   "cell_type": "markdown",
   "metadata": {},
   "source": [
    "### c)"
   ]
  },
  {
   "cell_type": "code",
   "execution_count": 6,
   "metadata": {},
   "outputs": [
    {
     "name": "stdout",
     "output_type": "stream",
     "text": [
      "((False, False), (False, False, False), False)\n"
     ]
    }
   ],
   "source": [
    "bvec_guess = np.array([0.1, 0.1])\n",
    "print(feasible(f_params, bvec_guess))"
   ]
  },
  {
   "cell_type": "markdown",
   "metadata": {},
   "source": [
    "Nothing is violated."
   ]
  },
  {
   "cell_type": "markdown",
   "metadata": {},
   "source": [
    "## Problem 2.2"
   ]
  },
  {
   "cell_type": "code",
   "execution_count": 7,
   "metadata": {},
   "outputs": [],
   "source": [
    "def Equation(bvec, *args):\n",
    "    b2, b3 = bvec\n",
    "    beta, sigma, nvec, L, A, alpha, delta, SS_tol = args\n",
    "    K_ss = b2 + b3\n",
    "    w_ss = (1 - alpha) * A * (K_ss / L) ** alpha\n",
    "    r_ss = alpha * A * (L / K_ss) ** (1 - alpha) - delta\n",
    "    C_ss = [w_ss-b2, w_ss + (1 + r_ss) * b2 - b3, 0.2 * w_ss + (1 + r_ss) * b3]\n",
    "    error1 = (C_ss[0] ** -sigma) - beta * (1 + r_ss) * (C_ss[1] ** -sigma)\n",
    "    error2 = (C_ss[1] ** -sigma) - beta * (1 + r_ss) * (C_ss[2] ** -sigma)\n",
    "    Euler_eqs = np.array([error1, error2])\n",
    "    return Euler_eqs"
   ]
  },
  {
   "cell_type": "code",
   "execution_count": 8,
   "metadata": {},
   "outputs": [],
   "source": [
    "def get_SS(params, bvec_guess, SS_graphs):\n",
    "    start_time = time.clock()\n",
    "    beta, sigma, nvec, L, A, alpha, delta, SS_tol = params\n",
    "    b_ss = np.array(opt.root(Equation, bvec_guess, args=params).x)\n",
    "    K_ss = sum(b_ss)\n",
    "    w_ss = (1 -alpha) * A * (K_ss / L) ** alpha\n",
    "    r_ss = alpha * A * (L / K_ss) ** (1 - alpha) - delta\n",
    "    Y_ss=A * (K_ss ** alpha) * (L ** (1 - alpha))\n",
    "    c1 = w_ss - b_ss[0]\n",
    "    c2 = w_ss + (1 + r_ss) * b_ss[0] - b_ss[1]\n",
    "    c3 = 0.2 * w_ss + (1 + r_ss) * b_ss[1]\n",
    "    c_ss = np.array([c1, c2, c3])\n",
    "    C_ss = c1 + c2 + c3\n",
    "    error1 = (c_ss[0] ** -sigma) - beta * (1 + r_ss) * (c_ss[1] ** -sigma)\n",
    "    error2 = (c_ss[1] ** -sigma) - beta * (1 + r_ss) * (c_ss[2] ** -sigma)\n",
    "    EulErr_ss = np.array([error1, error2])\n",
    "    RCerr_ss = Y_ss - C_ss - delta * K_ss\n",
    "    ss_time = time.clock() - start_time\n",
    "    ss_output = {'b_ss': b_ss, 'c_ss': c_ss, 'w_ss': w_ss, 'r_ss': r_ss,\n",
    "                 'K_ss': K_ss, 'Y_ss': Y_ss, 'C_ss': C_ss, 'EulErr_ss': EulErr_ss,\n",
    "                 'RCerr_ss': RCerr_ss, 'ss_time': ss_time}\n",
    "    if SS_graphs:\n",
    "        t1 = np.array([1,2,3])\n",
    "        t2 = np.array([2,3])\n",
    "        plt.plot(t1, c_ss,label='Consumption')\n",
    "        plt.plot(t2, b_ss,label='Savings')\n",
    "        plt.xlabel('Age')\n",
    "        plt.ylabel('Comsumption & Savings')\n",
    "        plt.title('Steady-state Distribution')\n",
    "        plt.legend()\n",
    "    return ss_output"
   ]
  },
  {
   "cell_type": "markdown",
   "metadata": {},
   "source": [
    "### a)"
   ]
  },
  {
   "cell_type": "code",
   "execution_count": 9,
   "metadata": {},
   "outputs": [
    {
     "name": "stdout",
     "output_type": "stream",
     "text": [
      "Values:  {'b_ss': array([0.01931253, 0.0584111 ]), 'c_ss': array([0.18241213, 0.20961468, 0.24087387]), 'w_ss': 0.20172465739052575, 'r_ss': 2.433062339127069, 'K_ss': 0.07772362575316386, 'Y_ss': 0.6827603788602411, 'C_ss': 0.6329006729395864, 'EulErr_ss': array([-1.39266376e-12,  2.62900812e-12]), 'RCerr_ss': 8.326672684688674e-17, 'ss_time': 0.0005669999999999842}\n"
     ]
    }
   ],
   "source": [
    "L = nvec.sum()\n",
    "params = (beta, sigma, nvec, L, A, alpha, delta, SS_tol)\n",
    "result1 = get_SS(params, np.array([0.1, 0.1]), False)\n",
    "print(\"Values: \", result1)"
   ]
  },
  {
   "cell_type": "markdown",
   "metadata": {},
   "source": [
    "### b)"
   ]
  },
  {
   "cell_type": "code",
   "execution_count": 10,
   "metadata": {},
   "outputs": [
    {
     "data": {
      "text/plain": [
       "{'b_ss': array([0.01931253, 0.0584111 ]),\n",
       " 'c_ss': array([0.18241213, 0.20961468, 0.24087387]),\n",
       " 'w_ss': 0.20172465739052575,\n",
       " 'r_ss': 2.433062339127069,\n",
       " 'K_ss': 0.07772362575316386,\n",
       " 'Y_ss': 0.6827603788602411,\n",
       " 'C_ss': 0.6329006729395864,\n",
       " 'EulErr_ss': array([-1.39266376e-12,  2.62900812e-12]),\n",
       " 'RCerr_ss': 8.326672684688674e-17,\n",
       " 'ss_time': 0.0005349999999999522}"
      ]
     },
     "execution_count": 10,
     "metadata": {},
     "output_type": "execute_result"
    },
    {
     "data": {
      "image/png": "[encoded data removed]",
      "text/plain": [
       "<Figure size 432x288 with 1 Axes>"
      ]
     },
     "metadata": {
      "needs_background": "light"
     },
     "output_type": "display_data"
    }
   ],
   "source": [
    "get_SS(params, np.array([0.1, 0.1]), True)"
   ]
  },
  {
   "cell_type": "markdown",
   "metadata": {},
   "source": [
    "### c)"
   ]
  },
  {
   "cell_type": "code",
   "execution_count": 11,
   "metadata": {},
   "outputs": [
    {
     "name": "stdout",
     "output_type": "stream",
     "text": [
      "Values:  {'b_ss': array([0.02817692, 0.07686545]), 'c_ss': array([0.19597528, 0.22861594, 0.26669307]), 'w_ss': 0.22415219593446706, 'r_ss': 1.8863765057189819, 'K_ss': 0.1050423702259807, 'Y_ss': 0.7586689708551193, 'C_ss': 0.6912842903551526, 'EulErr_ss': array([6.87805368e-12, 2.52953214e-12]), 'RCerr_ss': 9.71445146547012e-17, 'ss_time': 0.000336000000000114}\n"
     ]
    },
    {
     "data": {
      "image/png": "[encoded data removed]",
      "text/plain": [
       "<Figure size 432x288 with 1 Axes>"
      ]
     },
     "metadata": {
      "needs_background": "light"
     },
     "output_type": "display_data"
    }
   ],
   "source": [
    "params = (0.55, sigma, nvec, L, A, alpha, delta, SS_tol)\n",
    "result2 = get_SS(params, np.array([0.1, 0.1]), True)\n",
    "print(\"Values: \", result2)"
   ]
  },
  {
   "cell_type": "markdown",
   "metadata": {},
   "source": [
    "As beta increases, the consumption, savings and wage increase, but interest rates decrease. This is because people save more and plan to consume more and invest in the future, resulting in lower interest rate and higher wages."
   ]
  },
  {
   "cell_type": "markdown",
   "metadata": {},
   "source": [
    "## Problem 2.3"
   ]
  },
  {
   "cell_type": "code",
   "execution_count": 12,
   "metadata": {},
   "outputs": [],
   "source": [
    "def get_r(K, L, alpha, delta, A):\n",
    "    return A * alpha * ((L / K) ** (1 - alpha)) - delta\n",
    "\n",
    "def get_w(K, L, alpha, A):\n",
    "    return A * (1 - alpha) * ((K / L) ** alpha)\n",
    "\n",
    "def get_cons(b_s, b_s_1, n_s, r, w):\n",
    "    return w * n_s + (1 + r) * b_s - b_s_1\n",
    "\n",
    "def get_MU(c, sigma):\n",
    "    return c ** (-sigma)\n",
    "\n",
    "def get_Y(K, L, alpha, A):\n",
    "    return A * (K ** alpha) * (L ** (1-alpha))"
   ]
  },
  {
   "cell_type": "code",
   "execution_count": 13,
   "metadata": {},
   "outputs": [],
   "source": [
    "def timepath(K_path_update, K_init, K_ss, T, A, alpha, delta, nvec, m, Type):\n",
    "    path = np.zeros([T + m, 4])\n",
    "    period_path  = np.arange(1, T + m +1)\n",
    "    if Type == \"linear\":\n",
    "        K_path = np.linspace(K_init, K_ss, num = T)\n",
    "    if Type == \"update\":\n",
    "        K_path = K_path_update\n",
    "    path[: , 0] = period_path\n",
    "    path[: -m, 1] = K_path\n",
    "    path[-m: , 1] = K_ss\n",
    "    path[: , 2] = get_w(path[: , 1], nvec.sum(), alpha, A)\n",
    "    path[: , 3] = get_r(path[: , 1], nvec.sum(), alpha, delta, A)\n",
    "    return path\n",
    "\n",
    "def EulErr(bvec, *args):\n",
    "    b2, b3 = bvec\n",
    "    w1, w2, w3, r2, r3, beta, alpha, delta, sigma, A, nvec = args\n",
    "    K_ss = b2 + b3\n",
    "    c1 = get_cons(0, b2, nvec[0], r2, w1)\n",
    "    c2 = get_cons(b2, b3, nvec[1], r2, w2)\n",
    "    c3 = get_cons(b3, 0, nvec[2], r3, w3)\n",
    "    MU1 = get_MU(c1, sigma)\n",
    "    MU2 = get_MU(c2, sigma)\n",
    "    MU3 = get_MU(c3, sigma)\n",
    "    Eul1 = MU1 - beta*(1+r2) * MU2\n",
    "    Eul2 = MU2 - beta*(1+r3) * MU3\n",
    "    Euler_eqs = np.array([Eul1, Eul2])\n",
    "    return Euler_eqs\n",
    "\n",
    "def new_path(path, *args):\n",
    "    bvec_init_val, T, m, beta, alpha, delta, sigma, A, nvec, bvec_ss = args\n",
    "    b_mat = np.zeros([T + m, 3])\n",
    "    b_mat[0, 0:-1] = bvec_init_val\n",
    "    def get_b32(b32, *args):\n",
    "        r2, r3, b21, w2, w3, beta, sigma, nvec = args\n",
    "        c2  = get_cons(b21, b32, nvec[1], r2, w2)\n",
    "        c3  = get_cons(b32, 0, nvec[2], r3, w3)\n",
    "        MU2 = get_MU(c2, sigma)\n",
    "        MU3 = get_MU(c3, sigma)\n",
    "        error =  MU2 - beta * (1 + r3) * MU3\n",
    "        return error\n",
    "    b32_init = 0.1\n",
    "    b32_args  = (path[0 , 3], path[1 , 3], b_mat[0 , 0], path[0 , 2], path[1 , 2], beta, sigma, nvec)\n",
    "    b32 = opt.root(get_b32, b32_init, args = (b32_args))\n",
    "    b32 = b32.x\n",
    "    b_mat[1 , 1] = b32\n",
    "    for i in range(path.shape[0]-2):\n",
    "        w1 = path[i - 1 , 2]\n",
    "        w2 = path[i , 2]\n",
    "        w3 = path[i + 1 , 2]\n",
    "        r2 = path[i , 3]\n",
    "        r3 = path[i + 1, 3]\n",
    "        ts_args = (w1, w2, w3, r2, r3, beta, alpha, delta, sigma, A, nvec)\n",
    "        bvec_ts = opt.root(EulErr, bvec_init, args = (ts_args))\n",
    "        b_mat[i , 0] = bvec_ts.x[0]\n",
    "        b_mat[i + 1, 1] = bvec_ts.x[1]\n",
    "    b_mat[: , 2] = b_mat[: , 0] + b_mat[: , 1]\n",
    "    return b_mat\n",
    "\n",
    "def TPI(path_init, xival, tol, *args):\n",
    "    bvec_init, T, m, beta, alpha, delta, sigma, A, nvec, bvec_ss, K_ss = args\n",
    "    b_mat = np.zeros([T + m, 3])\n",
    "    b_mat[0, 0:-1] = bvec_init\n",
    "    b_HH_init  = new_path(path_init, bvec_init, T, m, beta, alpha, delta, sigma, A, nvec, bvec_ss)\n",
    "    diff_init = sum(((path_init[: -m, 1] - b_HH_init[: -m, 2])/path_init[: -m, 1])**2)\n",
    "    if diff_init > tol:\n",
    "        path = path_init\n",
    "        b_HH = b_HH_init\n",
    "        diff = diff_init\n",
    "        iter_num = 0\n",
    "        while diff > tol:\n",
    "            update = xival * b_HH[: -m, 2] + (1 - xival) * path[: -m, 1]\n",
    "            path = timepath(update, 0, K_ss, T, A, alpha, delta, nvec, m, \"update\")\n",
    "            b_HH = new_path(path, bvec_init, T, m, beta, alpha, delta, sigma, A, nvec, bvec_ss)\n",
    "            diff = sum(((path[: -m, 1] - b_HH[: -m, 2])/path[: -m, 1])**2)\n",
    "            iter_num = iter_num + 1\n",
    "            print(\"iteration: \", iter_num, \"       difference: \", diff)\n",
    "\n",
    "        result = (path, b_HH)\n",
    "    else:\n",
    "        result =  (path_init, b_HH_init)\n",
    "    return result"
   ]
  },
  {
   "cell_type": "code",
   "execution_count": 14,
   "metadata": {},
   "outputs": [],
   "source": [
    "xival = 0.1\n",
    "tol = 1e-9\n",
    "bvec_init = np.array([0.8 * result1['b_ss'][0], 1.1 * result1['b_ss'][1]])\n",
    "T = 25\n",
    "m = 25\n",
    "bvec_ss = result1['b_ss']\n",
    "K_ss = result1['K_ss']\n",
    "K_init = bvec_init.sum()\n",
    "path_init = timepath(0, K_init, K_ss, T, A, alpha, delta, nvec, m, \"linear\")"
   ]
  },
  {
   "cell_type": "code",
   "execution_count": 15,
   "metadata": {},
   "outputs": [
    {
     "name": "stdout",
     "output_type": "stream",
     "text": [
      "iteration:  1        difference:  0.0026923268543442304\n",
      "iteration:  2        difference:  0.002157561740107384\n",
      "iteration:  3        difference:  0.0017408174700849325\n",
      "iteration:  4        difference:  0.0014142121894262733\n",
      "iteration:  5        difference:  0.0011567365684827385\n",
      "iteration:  6        difference:  0.0009525098783005804\n",
      "iteration:  7        difference:  0.0007894893845593562\n",
      "iteration:  8        difference:  0.0006585123205853974\n",
      "iteration:  9        difference:  0.0005525827671266743\n",
      "iteration:  10        difference:  0.0004663394689037951\n",
      "iteration:  11        difference:  0.00039565771612220233\n",
      "iteration:  12        difference:  0.0003373508229514696\n",
      "iteration:  13        difference:  0.00028894577394323863\n",
      "iteration:  14        difference:  0.00024851422573664284\n",
      "iteration:  15        difference:  0.00021454491036903037\n",
      "iteration:  16        difference:  0.00018584706684335225\n",
      "iteration:  17        difference:  0.00016147717292832388\n",
      "iteration:  18        difference:  0.00014068320855806213\n",
      "iteration:  19        difference:  0.00012286213677220782\n",
      "iteration:  20        difference:  0.0001075273701614944\n",
      "iteration:  21        difference:  9.428379719245105e-05\n",
      "iteration:  22        difference:  8.28085448380036e-05\n",
      "iteration:  23        difference:  7.283610417524054e-05\n",
      "iteration:  24        difference:  6.414678284723912e-05\n",
      "iteration:  25        difference:  5.6557701274248965e-05\n",
      "iteration:  26        difference:  4.991573957980048e-05\n",
      "iteration:  27        difference:  4.409198522872175e-05\n",
      "iteration:  28        difference:  3.8977339171761304e-05\n",
      "iteration:  29        difference:  3.447901966296625e-05\n",
      "iteration:  30        difference:  3.051776444217367e-05\n",
      "iteration:  31        difference:  2.7025578576897397e-05\n",
      "iteration:  32        difference:  2.3943910620540024e-05\n",
      "iteration:  33        difference:  2.122216663124755e-05\n",
      "iteration:  34        difference:  1.881649208204488e-05\n",
      "iteration:  35        difference:  1.668876733801069e-05\n",
      "iteration:  36        difference:  1.480577435376483e-05\n",
      "iteration:  37        difference:  1.3138501438913175e-05\n",
      "iteration:  38        difference:  1.1661560017667858e-05\n",
      "iteration:  39        difference:  1.035269277596516e-05\n",
      "iteration:  40        difference:  9.192356826203092e-06\n",
      "iteration:  41        difference:  8.163368815613713e-06\n",
      "iteration:  42        difference:  7.250601478251764e-06\n",
      "iteration:  43        difference:  6.440723149559824e-06\n",
      "iteration:  44        difference:  5.721973353396899e-06\n",
      "iteration:  45        difference:  5.083968830948741e-06\n",
      "iteration:  46        difference:  4.5175353834629675e-06\n",
      "iteration:  47        difference:  4.014561702758737e-06\n",
      "iteration:  48        difference:  3.5678720086401298e-06\n",
      "iteration:  49        difference:  3.1711148343476666e-06\n",
      "iteration:  50        difference:  2.8186657258536935e-06\n",
      "iteration:  51        difference:  2.5055419683410275e-06\n",
      "iteration:  52        difference:  2.227327739252506e-06\n",
      "iteration:  53        difference:  1.980108323925673e-06\n",
      "iteration:  54        difference:  1.760412226953447e-06\n",
      "iteration:  55        difference:  1.5651601770542873e-06\n",
      "iteration:  56        difference:  1.3916201619570847e-06\n",
      "iteration:  57        difference:  1.2373677467761743e-06\n",
      "iteration:  58        difference:  1.100251028816298e-06\n",
      "iteration:  59        difference:  9.783596664071093e-07\n",
      "iteration:  60        difference:  8.699974918793512e-07\n",
      "iteration:  61        difference:  7.736582810510501e-07\n",
      "iteration:  62        difference:  6.880043052500717e-07\n",
      "iteration:  63        difference:  6.118473382712906e-07\n",
      "iteration:  64        difference:  5.441318308670548e-07\n",
      "iteration:  65        difference:  4.839200003034153e-07\n",
      "iteration:  66        difference:  4.3037861293060134e-07\n",
      "iteration:  67        difference:  3.8276726427239633e-07\n",
      "iteration:  68        difference:  3.404279843454939e-07\n",
      "iteration:  69        difference:  3.027760162566816e-07\n",
      "iteration:  70        difference:  2.6929163393311547e-07\n",
      "iteration:  71        difference:  2.3951288053289624e-07\n",
      "iteration:  72        difference:  2.1302912280854632e-07\n",
      "iteration:  73        difference:  1.8947532883834265e-07\n",
      "iteration:  74        difference:  1.6852698721281959e-07\n",
      "iteration:  75        difference:  1.4989559515894816e-07\n",
      "iteration:  76        difference:  1.3332465140449687e-07\n",
      "iteration:  77        difference:  1.1858609691481981e-07\n",
      "iteration:  78        difference:  1.0547715310909064e-07\n",
      "iteration:  79        difference:  9.381751289489569e-08\n",
      "iteration:  80        difference:  8.344684492387524e-08\n",
      "iteration:  81        difference:  7.422257595753858e-08\n",
      "iteration:  82        difference:  6.601792019546814e-08\n",
      "iteration:  83        difference:  5.872012793494451e-08\n",
      "iteration:  84        difference:  5.2228929048661405e-08\n",
      "iteration:  85        difference:  4.6455149513663926e-08\n",
      "iteration:  86        difference:  4.131948168522064e-08\n",
      "iteration:  87        difference:  3.675139116417202e-08\n",
      "iteration:  88        difference:  3.268814503507992e-08\n",
      "iteration:  89        difference:  2.907394795819556e-08\n",
      "iteration:  90        difference:  2.5859174106451206e-08\n",
      "iteration:  91        difference:  2.2999684286727832e-08\n",
      "iteration:  92        difference:  2.0456218770635745e-08\n",
      "iteration:  93        difference:  1.8193857421526427e-08\n",
      "iteration:  94        difference:  1.6181539640956397e-08\n",
      "iteration:  95        difference:  1.4391637491468889e-08\n",
      "iteration:  96        difference:  1.2799576092741513e-08\n",
      "iteration:  97        difference:  1.138349604741816e-08\n",
      "iteration:  98        difference:  1.0123953231921188e-08\n",
      "iteration:  99        difference:  9.00365181096934e-09\n",
      "iteration:  100        difference:  8.007206792976217e-09\n",
      "iteration:  101        difference:  7.1209328514683935e-09\n",
      "iteration:  102        difference:  6.332656504357896e-09\n",
      "iteration:  103        difference:  5.631549062774804e-09\n",
      "iteration:  104        difference:  5.0079780507861555e-09\n",
      "iteration:  105        difference:  4.453375050059006e-09\n",
      "iteration:  106        difference:  3.960118153655459e-09\n",
      "iteration:  107        difference:  3.521427409958116e-09\n",
      "iteration:  108        difference:  3.131271822093861e-09\n",
      "iteration:  109        difference:  2.7842866225787136e-09\n",
      "iteration:  110        difference:  2.475699689045313e-09\n",
      "iteration:  111        difference:  2.2012660883809812e-09\n",
      "iteration:  112        difference:  1.957209851794444e-09\n",
      "iteration:  113        difference:  1.7401721815134423e-09\n",
      "iteration:  114        difference:  1.5471653777067313e-09\n",
      "iteration:  115        difference:  1.375531854258525e-09\n",
      "iteration:  116        difference:  1.2229076803805855e-09\n",
      "iteration:  117        difference:  1.087190148687408e-09\n",
      "iteration:  118        difference:  9.66508924616652e-10\n"
     ]
    }
   ],
   "source": [
    "path = TPI(path_init, xival, tol, \n",
    "           bvec_init, T, m, beta, \n",
    "           alpha, delta, sigma, \n",
    "           A, nvec, bvec_ss, K_ss)"
   ]
  },
  {
   "cell_type": "code",
   "execution_count": 16,
   "metadata": {},
   "outputs": [],
   "source": [
    "K_path = path[0][:, [0 , 1]]\n",
    "w_path = path[0][:, [0 , 2]]\n",
    "r_path = path[0][:, [0 , 3]]\n",
    "b_path = path[1][:,:2]\n",
    "Eulerr_path = np.zeros((30, 2))\n",
    "RCerr_path = np.zeros(30)"
   ]
  },
  {
   "cell_type": "code",
   "execution_count": 17,
   "metadata": {},
   "outputs": [
    {
     "name": "stdout",
     "output_type": "stream",
     "text": [
      "Maximum of the absolute values of all the Euler errors across the entire time path: 37.40392775466482\n",
      "Maximum of the absolute values of all the resource constraint errors across the entire time path: 0.0057734276923919435\n"
     ]
    }
   ],
   "source": [
    "K_path = path[0][:, [0 , 1]]\n",
    "w_path = path[0][:, [0 , 2]]\n",
    "r_path = path[0][:, [0 , 3]]\n",
    "b_path = path[1][:,:2]\n",
    "Eulerr_path = np.zeros((30, 2))\n",
    "RCerr_path = np.zeros(30)\n",
    "for i in range(30):\n",
    "    if i == 0:\n",
    "        rt = rt1 = r_path[0,1]\n",
    "        wt = wt1 = w_path[0,1]\n",
    "        b2t = b2t1 = b_path[0, 0]\n",
    "        b3t = b3t1 = b_path[0, 1]\n",
    "    else:\n",
    "        rt, rt1 = r_path[i, 1], r_path[i-1, 1]\n",
    "        b2t, b3t = b_path[i,:]\n",
    "        b2t1, b3t1 = b_path[i-1, :]\n",
    "        wt, wt1 = w_path[i,1], w_path[i-1, 1]\n",
    "    Kt = K_path[i,1]\n",
    "    Kt_1 = K_path[i+1, 1]\n",
    "    Yt = get_Y(Kt, nvec.sum(), alpha, A)\n",
    "    c1t = get_cons(0, b2t, nvec[0], rt, wt)\n",
    "    c2t = get_cons(b2t1, b3t, nvec[1], rt1, wt)\n",
    "    c3t = get_cons(b3t1, 0, nvec[2], rt1, wt)\n",
    "    Ct = c1t + c2t + c3t\n",
    "    RCerr_path[i] = Yt - Ct - Kt_1 + (1 - delta) * Kt\n",
    "    Eulerr_path[i, :] = EulErr(b_path[i, :], w_path[i,1], w_path[i+1,1], w_path[i+2,1], r_path[i+1,1], r_path[i+2,1], \\\n",
    "                               beta, alpha, delta, sigma, A, nvec)\n",
    "    \n",
    "print('Maximum of the absolute values of all the Euler errors across the entire time path:', \n",
    "      np.abs(Eulerr_path).max())\n",
    "print('Maximum of the absolute values of all the resource constraint errors across the entire time path:', \n",
    "      np.abs(RCerr_path).max())"
   ]
  },
  {
   "cell_type": "markdown",
   "metadata": {},
   "source": [
    "### b)"
   ]
  },
  {
   "cell_type": "code",
   "execution_count": 18,
   "metadata": {},
   "outputs": [
    {
     "data": {
      "image/png": "[encoded data removed]",
      "text/plain": [
       "<Figure size 432x288 with 1 Axes>"
      ]
     },
     "metadata": {
      "needs_background": "light"
     },
     "output_type": "display_data"
    }
   ],
   "source": [
    "K_fig = plt.figure()\n",
    "plt.plot(K_path[: , 0], K_path[: , 1])\n",
    "plt.xlabel('Periods')\n",
    "plt.ylabel('Aggregate Capital Stock')\n",
    "plt.title('Equilibrium Time Path of Aggregate Capital Stock')\n",
    "plt.show()"
   ]
  },
  {
   "cell_type": "code",
   "execution_count": 19,
   "metadata": {},
   "outputs": [
    {
     "data": {
      "image/png": "[encoded data removed]",
      "text/plain": [
       "<Figure size 432x288 with 1 Axes>"
      ]
     },
     "metadata": {
      "needs_background": "light"
     },
     "output_type": "display_data"
    }
   ],
   "source": [
    "w_fig = plt.figure()\n",
    "plt.plot(w_path[: , 0], w_path[: , 1])\n",
    "plt.xlabel('Periods')\n",
    "plt.ylabel('Wage')\n",
    "plt.title('Time Path of Wage')\n",
    "plt.show()"
   ]
  },
  {
   "cell_type": "code",
   "execution_count": 20,
   "metadata": {},
   "outputs": [
    {
     "data": {
      "image/png": "[encoded data removed]",
      "text/plain": [
       "<Figure size 432x288 with 1 Axes>"
      ]
     },
     "metadata": {
      "needs_background": "light"
     },
     "output_type": "display_data"
    }
   ],
   "source": [
    "r_fig = plt.figure()\n",
    "plt.plot(r_path[: , 0], r_path[: , 1])\n",
    "plt.xlabel('Periods')\n",
    "plt.ylabel('Interest Rate')\n",
    "plt.title('Time Path of Interest Rate')\n",
    "plt.show()"
   ]
  },
  {
   "cell_type": "code",
   "execution_count": 21,
   "metadata": {},
   "outputs": [
    {
     "name": "stdout",
     "output_type": "stream",
     "text": [
      "It takes 13 periods to get within 0.00001 of the steady-state aggregate capital stock\n"
     ]
    }
   ],
   "source": [
    "for i in range(50):\n",
    "    K = K_path[i, 1]\n",
    "    if abs(K - K_ss) <= 0.00001:\n",
    "        print('It takes {} periods to get within 0.00001 of the steady-state aggregate capital stock'.format(int(K_path[i, 0])))\n",
    "        break"
   ]
  },
  {
   "cell_type": "code",
   "execution_count": 22,
   "metadata": {},
   "outputs": [
    {
     "name": "stdout",
     "output_type": "stream",
     "text": [
      "The period after which the aggregate capital stock never is again farther than 0.00001 away from the steady-state is period 13\n"
     ]
    }
   ],
   "source": [
    "for i in range(50):\n",
    "    K_mat = K_path[i:, 1]\n",
    "    Diff = np.abs(K_mat - K_ss)\n",
    "    if np.sum(Diff > 0.00001) == 0:\n",
    "        print(\"The period after which the aggregate capital stock never is again farther than 0.00001 away from the steady-state is period {}\".format(int(K_path[i, 0])))\n",
    "        break"
   ]
  },
  {
   "cell_type": "code",
   "execution_count": null,
   "metadata": {},
   "outputs": [],
   "source": []
  }
 ],
 "metadata": {
  "kernelspec": {
   "display_name": "Python 3",
   "language": "python",
   "name": "python3"
  },
  "language_info": {
   "codemirror_mode": {
    "name": "ipython",
    "version": 3
   },
   "file_extension": ".py",
   "mimetype": "text/x-python",
   "name": "python",
   "nbconvert_exporter": "python",
   "pygments_lexer": "ipython3",
   "version": "3.7.6"
  }
 },
 "nbformat": 4,
 "nbformat_minor": 4
}
